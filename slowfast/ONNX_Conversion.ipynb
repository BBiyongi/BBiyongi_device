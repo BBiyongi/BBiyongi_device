{
 "cells": [
  {
   "cell_type": "code",
   "execution_count": null,
   "id": "0290a584",
   "metadata": {},
   "outputs": [],
   "source": [
    "import torch\n",
    "import torch.nn as nn"
   ]
  },
  {
   "cell_type": "code",
   "execution_count": null,
   "id": "17119d98",
   "metadata": {},
   "outputs": [],
   "source": [
    "model = torch.hub.load('facebookresearch/pytorchvideo', 'slowfast_r50', pretrained=True)\n",
    "model.blocks[6].proj = nn.Linear(2304, 3)\n",
    "model.load_state_dict(torch.load(\"./dataset/slowfast_base.pt\"))\n",
    "model.to('cpu')\n",
    "model.eval()"
   ]
  },
  {
   "cell_type": "code",
   "execution_count": null,
   "id": "ec867a1a",
   "metadata": {},
   "outputs": [],
   "source": [
    "torch.onnx.export(model, [torch.zeros((1, 3, 8, 256, 256)), torch.zeros((1, 3, 32, 256, 256))], \"./slowfast_base.onnx\", verbose=True, input_names=['input_1', 'input_2'], output_names=['output'])"
   ]
  }
 ],
 "metadata": {
  "kernelspec": {
   "display_name": "tmp",
   "language": "python",
   "name": "tmp"
  },
  "language_info": {
   "codemirror_mode": {
    "name": "ipython",
    "version": 3
   },
   "file_extension": ".py",
   "mimetype": "text/x-python",
   "name": "python",
   "nbconvert_exporter": "python",
   "pygments_lexer": "ipython3",
   "version": "3.9.16"
  }
 },
 "nbformat": 4,
 "nbformat_minor": 5
}
