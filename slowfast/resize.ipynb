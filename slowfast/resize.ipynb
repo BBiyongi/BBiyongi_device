{
 "cells": [
  {
   "cell_type": "code",
   "execution_count": null,
   "id": "32175e66",
   "metadata": {},
   "outputs": [],
   "source": [
    "from glob import glob\n",
    "import ffmpeg"
   ]
  },
  {
   "cell_type": "code",
   "execution_count": null,
   "id": "06e8af80",
   "metadata": {},
   "outputs": [],
   "source": [
    "import os\n",
    "import shutil\n",
    "\n",
    "def vid_resize(vid_path, output_path, width, overwrite = False):\n",
    "    '''\n",
    "    use ffmpeg to resize the input video to the width given, keeping aspect ratio\n",
    "    '''\n",
    "#     if not( os.path.isdir(os.path.dirname(output_path))):\n",
    "#         os.mkdir('/'.join(output_path.split('/')[:-1]))\n",
    "        #         raise ValueError(f'output_path directory does not exists: {os.path.dirname(output_path)}')\n",
    "\n",
    "    if os.path.isfile(output_path) and not overwrite:\n",
    "        warnings.warn(f'{output_path} already exists but overwrite switch is False, nothing done.')\n",
    "        return None\n",
    "    \n",
    "    shutil.copy(vid_path[:-3]+\"xml\", output_path[:-3]+\"xml\")\n",
    "    \n",
    "    input_vid = ffmpeg.input(vid_path)\n",
    "    vid = (\n",
    "        input_vid\n",
    "        .filter('scale', width, -1)\n",
    "        .output(output_path)\n",
    "        .overwrite_output()\n",
    "        .run()\n",
    "    )\n",
    "    return output_path"
   ]
  },
  {
   "cell_type": "code",
   "execution_count": null,
   "id": "ed115ac9",
   "metadata": {},
   "outputs": [],
   "source": [
    "swoon_paths = glob('./이상행동 CCTV 영상/05.실신(swoon)/*/*/*.mp4')"
   ]
  },
  {
   "cell_type": "code",
   "execution_count": null,
   "id": "c6f30e3c",
   "metadata": {},
   "outputs": [],
   "source": [
    "from tqdm import tqdm\n",
    "for swoon_path in tqdm(swoon_paths, total = len(swoon_paths)):\n",
    "    newmovie_path = vid_resize(swoon_path, output_path = \"./resized/swoon/\"+swoon_path.split('/')[-1], width = 512)"
   ]
  },
  {
   "cell_type": "code",
   "execution_count": null,
   "id": "5c1c726d",
   "metadata": {},
   "outputs": [],
   "source": [
    "assult_paths = glob('./이상행동 CCTV 영상/01.폭행(assult)/*/*/*.mp4')\n",
    "assult_paths.extend(glob('./이상행동 CCTV 영상/02.싸움(fight)/*/*/*.mp4'))\n",
    "from tqdm import tqdm\n",
    "for assult_path in tqdm(assult_paths, total = len(assult_paths)):\n",
    "    newmovie_path = vid_resize(assult_path, output_path = \"./resized/assult/\"+assult_path.split('/')[-1], width = 512)"
   ]
  },
  {
   "cell_type": "code",
   "execution_count": null,
   "id": "6e696f8e",
   "metadata": {},
   "outputs": [],
   "source": []
  }
 ],
 "metadata": {
  "kernelspec": {
   "display_name": "BBiyongi_pytorch",
   "language": "python",
   "name": "bbiyongi_pytorch"
  },
  "language_info": {
   "codemirror_mode": {
    "name": "ipython",
    "version": 3
   },
   "file_extension": ".py",
   "mimetype": "text/x-python",
   "name": "python",
   "nbconvert_exporter": "python",
   "pygments_lexer": "ipython3",
   "version": "3.9.16"
  }
 },
 "nbformat": 4,
 "nbformat_minor": 5
}
